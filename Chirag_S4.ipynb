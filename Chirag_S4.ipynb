{
  "nbformat": 4,
  "nbformat_minor": 0,
  "metadata": {
    "colab": {
      "name": "Chirag_S4_1x1.ipynb",
      "provenance": [],
      "collapsed_sections": []
    },
    "kernelspec": {
      "name": "python3",
      "display_name": "Python 3"
    },
    "accelerator": "GPU"
  },
  "cells": [
    {
      "cell_type": "code",
      "metadata": {
        "id": "0m2JWFliFfKT",
        "colab_type": "code",
        "colab": {}
      },
      "source": [
        "from __future__ import print_function\n",
        "import torch\n",
        "import torch.nn as nn # Neural networks can be constructed using the torch.nn package.\n",
        "import torch.nn.functional as F \n",
        "import torch.optim as optim #package implementing various optimization algorithms\n",
        "from torchvision import datasets, transforms #The torchvision package consists of popular datasets, model architectures, and common image transformations for computer vision."
      ],
      "execution_count": 0,
      "outputs": []
    },
    {
      "cell_type": "code",
      "metadata": {
        "id": "h_Cx9q2QFgM7",
        "colab_type": "code",
        "colab": {}
      },
      "source": [
        "class Net(nn.Module): #An nn.Module contains layers, and a method forward(input)that returns the output.\n",
        "    def __init__(self):\n",
        "        super(Net, self).__init__()# supposed to initialize the layers you want to use\n",
        "        self.conv1 = nn.Conv2d(1, 16, 3,padding = 1) #input Channel - 1, OUtput Channel - 32,  RF - 3\n",
        "        self.bn1 = nn.BatchNorm2d(16)\n",
        "        self.conv2 = nn.Conv2d(16, 32, 3, padding =1 ) #input Channel - 32, OUtput Channel - 64,  RF - 5\n",
        "        self.bn2 = nn.BatchNorm2d(32)\n",
        "        self.pool1 = nn.MaxPool2d(2, 2)\n",
        "        self.drop1 = nn.Dropout2d(0.1)\n",
        "        self.conv3 = nn.Conv2d(32, 16, 1) #input Channel - 64, OUtput Channel - 32,  RF - 10\n",
        "        self.bn3 = nn.BatchNorm2d(16)\n",
        "        self.conv4 = nn.Conv2d(16, 32, 3, padding=1) #input Channel - 32, OUtput Channel - 64,  RF - 12\n",
        "        self.bn4 = nn.BatchNorm2d(32)\n",
        "        self.pool2 = nn.MaxPool2d(2, 2)\n",
        "        self.drop2 = nn.Dropout2d(0.1)\n",
        "        self.conv5 = nn.Conv2d(32, 32, 3,padding = 1) #input Channel - 32, OUtput Channel - 64,  RF - 26\n",
        "        self.bn5 = nn.BatchNorm2d(32)\n",
        "        self.avgpool = nn.AdaptiveAvgPool2d(1)\n",
        "        self.conv7 = nn.Conv2d(32, 10, 1) \n",
        "       \n",
        "        \n",
        "\n",
        "    def forward(self, x): #In the forward method, you specify the connections of your layers\n",
        "        #x = self.drop1(self.pool1(F.relu(self.conv2(F.relu(self.conv1(x)))))) #Relu non linear activaion function\n",
        "        #x = self.drop2(self.pool2(F.relu(self.conv4(F.relu(self.conv3(x))))))\n",
        "        x = self.drop1(self.pool1(F.relu(self.bn2(self.conv2(F.relu(self.bn1(self.conv1(x)))))))) #Relu non linear activaion function\n",
        "        x = self.pool2(F.relu(self.bn4(self.conv4(F.relu(self.bn3(self.conv3(x)))))))\n",
        "        x = F.relu(self.bn5(self.conv5(x)))\n",
        "        #x = F.relu(self.conv9(F.relu(self.conv8(x))))\n",
        "        x = F.relu(self.conv7(x))\n",
        "        x = self.avgpool(x)\n",
        "        #print(x.shape)\n",
        "        x = x.view(-1, 10)\n",
        "        return F.log_softmax(x,dim=1)"
      ],
      "execution_count": 0,
      "outputs": []
    },
    {
      "cell_type": "code",
      "metadata": {
        "colab_type": "code",
        "id": "xdydjYTZFyi3",
        "outputId": "b33a59fb-8d9b-46b1-eec1-a09ceeafa7b8",
        "colab": {
          "base_uri": "https://localhost:8080/",
          "height": 514
        }
      },
      "source": [
        "!pip install torchsummary #Yes, you can get exact Keras representation, using pytorch-summary package.\n",
        "from torchsummary import summary\n",
        "use_cuda = torch.cuda.is_available()\n",
        "device = torch.device(\"cuda\" if use_cuda else \"cpu\")\n",
        "model = Net().to(device)\n",
        "summary(model, input_size=(1, 28, 28))"
      ],
      "execution_count": 14,
      "outputs": [
        {
          "output_type": "stream",
          "text": [
            "Requirement already satisfied: torchsummary in /usr/local/lib/python3.6/dist-packages (1.5.1)\n",
            "----------------------------------------------------------------\n",
            "        Layer (type)               Output Shape         Param #\n",
            "================================================================\n",
            "            Conv2d-1           [-1, 16, 28, 28]             160\n",
            "       BatchNorm2d-2           [-1, 16, 28, 28]              32\n",
            "            Conv2d-3           [-1, 32, 28, 28]           4,640\n",
            "       BatchNorm2d-4           [-1, 32, 28, 28]              64\n",
            "         MaxPool2d-5           [-1, 32, 14, 14]               0\n",
            "            Conv2d-6           [-1, 16, 14, 14]             528\n",
            "       BatchNorm2d-7           [-1, 16, 14, 14]              32\n",
            "            Conv2d-8           [-1, 32, 14, 14]           4,640\n",
            "       BatchNorm2d-9           [-1, 32, 14, 14]              64\n",
            "        MaxPool2d-10             [-1, 32, 7, 7]               0\n",
            "           Conv2d-11             [-1, 32, 7, 7]           9,248\n",
            "      BatchNorm2d-12             [-1, 32, 7, 7]              64\n",
            "           Conv2d-13             [-1, 10, 7, 7]             330\n",
            "AdaptiveAvgPool2d-14             [-1, 10, 1, 1]               0\n",
            "================================================================\n",
            "Total params: 19,802\n",
            "Trainable params: 19,802\n",
            "Non-trainable params: 0\n",
            "----------------------------------------------------------------\n",
            "Input size (MB): 0.00\n",
            "Forward/backward pass size (MB): 0.81\n",
            "Params size (MB): 0.08\n",
            "Estimated Total Size (MB): 0.88\n",
            "----------------------------------------------------------------\n"
          ],
          "name": "stdout"
        }
      ]
    },
    {
      "cell_type": "code",
      "metadata": {
        "id": "DqTWLaM5GHgH",
        "colab_type": "code",
        "colab": {}
      },
      "source": [
        "\n",
        "\n",
        "torch.manual_seed(1) #Sets the seed for generating random numbers (seed (int) – The desired seed.)\n",
        "batch_size = 8\n",
        "kwargs = {'num_workers': 4, 'pin_memory': True} if use_cuda else {}\n",
        "train_loader = torch.utils.data.DataLoader(\n",
        "    datasets.MNIST('../data', train=True, download=True,\n",
        "                    transform=transforms.Compose([\n",
        "                        transforms.ToTensor(),\n",
        "                        transforms.Normalize((0.1307,), (0.3081,))\n",
        "                    ])),\n",
        "    batch_size=batch_size, shuffle=True, **kwargs)\n",
        "test_loader = torch.utils.data.DataLoader( \n",
        "    datasets.MNIST('../data', train=False, transform=transforms.Compose([\n",
        "                        transforms.ToTensor(),\n",
        "                        transforms.Normalize((0.1307,), (0.3081,))\n",
        "                    ])),\n",
        "    batch_size=batch_size, shuffle=False, **kwargs)\n"
      ],
      "execution_count": 0,
      "outputs": []
    },
    {
      "cell_type": "code",
      "metadata": {
        "id": "8fDefDhaFlwH",
        "colab_type": "code",
        "colab": {}
      },
      "source": [
        "from tqdm import tqdm\n",
        "def train(model, device, train_loader, optimizer, epoch):\n",
        "    model.train()\n",
        "    pbar = tqdm(train_loader)\n",
        "    for batch_idx, (data, target) in enumerate(pbar):\n",
        "        data, target = data.to(device), target.to(device)\n",
        "        optimizer.zero_grad()\n",
        "        output = model(data) \n",
        "        loss = F.nll_loss(output, target)\n",
        "        loss.backward()\n",
        "        optimizer.step()\n",
        "        pbar.set_description(desc= f'loss={loss.item()} batch_id={batch_idx}')\n",
        "\n",
        "\n",
        "def test(model, device, test_loader):\n",
        "    model.eval()\n",
        "    test_loss = 0\n",
        "    correct = 0\n",
        "    with torch.no_grad():\n",
        "        for data, target in test_loader:\n",
        "            data, target = data.to(device), target.to(device)\n",
        "            output = model(data)\n",
        "            test_loss += F.nll_loss(output, target, reduction='sum').item()  # sum up batch loss\n",
        "            pred = output.argmax(dim=1, keepdim=True)  # get the index of the max log-probability\n",
        "            correct += pred.eq(target.view_as(pred)).sum().item()\n",
        "\n",
        "    test_loss /= len(test_loader.dataset)\n",
        "\n",
        "    print('\\nTest set: Average loss: {:.4f}, Accuracy: {}/{} ({:.3f}%)\\n'.format(\n",
        "        test_loss, correct, len(test_loader.dataset),\n",
        "        100. * correct / len(test_loader.dataset)))"
      ],
      "execution_count": 0,
      "outputs": []
    },
    {
      "cell_type": "code",
      "metadata": {
        "id": "MMWbLWO6FuHb",
        "colab_type": "code",
        "outputId": "170de333-319a-46b9-ebb0-aa7f07ab801d",
        "colab": {
          "base_uri": "https://localhost:8080/",
          "height": 1000
        }
      },
      "source": [
        "model = Net().to(device)\n",
        "optimizer = optim.SGD(model.parameters(), lr=0.01, momentum=0.9)\n",
        "\n",
        "for epoch in range(18):\n",
        "    train(model, device, train_loader, optimizer, epoch)\n",
        "    test(model, device, test_loader)"
      ],
      "execution_count": 20,
      "outputs": [
        {
          "output_type": "stream",
          "text": [
            "loss=0.014061927795410156 batch_id=7499: 100%|██████████| 7500/7500 [01:05<00:00, 114.94it/s]\n",
            "  0%|          | 0/7500 [00:00<?, ?it/s]"
          ],
          "name": "stderr"
        },
        {
          "output_type": "stream",
          "text": [
            "\n",
            "Test set: Average loss: 0.0553, Accuracy: 9826/10000 (98.260%)\n",
            "\n"
          ],
          "name": "stdout"
        },
        {
          "output_type": "stream",
          "text": [
            "loss=0.06563115119934082 batch_id=7499: 100%|██████████| 7500/7500 [01:04<00:00, 116.61it/s]\n",
            "  0%|          | 0/7500 [00:00<?, ?it/s]"
          ],
          "name": "stderr"
        },
        {
          "output_type": "stream",
          "text": [
            "\n",
            "Test set: Average loss: 0.0418, Accuracy: 9860/10000 (98.600%)\n",
            "\n"
          ],
          "name": "stdout"
        },
        {
          "output_type": "stream",
          "text": [
            "loss=0.023436784744262695 batch_id=7499: 100%|██████████| 7500/7500 [01:03<00:00, 118.48it/s]\n",
            "  0%|          | 0/7500 [00:00<?, ?it/s]"
          ],
          "name": "stderr"
        },
        {
          "output_type": "stream",
          "text": [
            "\n",
            "Test set: Average loss: 0.0315, Accuracy: 9904/10000 (99.040%)\n",
            "\n"
          ],
          "name": "stdout"
        },
        {
          "output_type": "stream",
          "text": [
            "loss=0.0013344287872314453 batch_id=7499: 100%|██████████| 7500/7500 [01:03<00:00, 118.96it/s]\n",
            "  0%|          | 0/7500 [00:00<?, ?it/s]"
          ],
          "name": "stderr"
        },
        {
          "output_type": "stream",
          "text": [
            "\n",
            "Test set: Average loss: 0.0308, Accuracy: 9912/10000 (99.120%)\n",
            "\n"
          ],
          "name": "stdout"
        },
        {
          "output_type": "stream",
          "text": [
            "loss=0.012774348258972168 batch_id=7499: 100%|██████████| 7500/7500 [01:03<00:00, 118.46it/s]\n",
            "  0%|          | 0/7500 [00:00<?, ?it/s]"
          ],
          "name": "stderr"
        },
        {
          "output_type": "stream",
          "text": [
            "\n",
            "Test set: Average loss: 0.0308, Accuracy: 9904/10000 (99.040%)\n",
            "\n"
          ],
          "name": "stdout"
        },
        {
          "output_type": "stream",
          "text": [
            "loss=0.009628534317016602 batch_id=7499: 100%|██████████| 7500/7500 [01:03<00:00, 118.88it/s]\n",
            "  0%|          | 0/7500 [00:00<?, ?it/s]"
          ],
          "name": "stderr"
        },
        {
          "output_type": "stream",
          "text": [
            "\n",
            "Test set: Average loss: 0.0259, Accuracy: 9911/10000 (99.110%)\n",
            "\n"
          ],
          "name": "stdout"
        },
        {
          "output_type": "stream",
          "text": [
            "loss=0.0001690387725830078 batch_id=7499: 100%|██████████| 7500/7500 [01:02<00:00, 119.24it/s]\n",
            "  0%|          | 0/7500 [00:00<?, ?it/s]"
          ],
          "name": "stderr"
        },
        {
          "output_type": "stream",
          "text": [
            "\n",
            "Test set: Average loss: 0.0237, Accuracy: 9924/10000 (99.240%)\n",
            "\n"
          ],
          "name": "stdout"
        },
        {
          "output_type": "stream",
          "text": [
            "loss=0.0003306865692138672 batch_id=7499: 100%|██████████| 7500/7500 [01:02<00:00, 119.93it/s]\n",
            "  0%|          | 0/7500 [00:00<?, ?it/s]"
          ],
          "name": "stderr"
        },
        {
          "output_type": "stream",
          "text": [
            "\n",
            "Test set: Average loss: 0.0254, Accuracy: 9920/10000 (99.200%)\n",
            "\n"
          ],
          "name": "stdout"
        },
        {
          "output_type": "stream",
          "text": [
            "loss=0.00020599365234375 batch_id=7499: 100%|██████████| 7500/7500 [01:02<00:00, 119.65it/s]\n",
            "  0%|          | 0/7500 [00:00<?, ?it/s]"
          ],
          "name": "stderr"
        },
        {
          "output_type": "stream",
          "text": [
            "\n",
            "Test set: Average loss: 0.0311, Accuracy: 9905/10000 (99.050%)\n",
            "\n"
          ],
          "name": "stdout"
        },
        {
          "output_type": "stream",
          "text": [
            "loss=0.0013260841369628906 batch_id=7499: 100%|██████████| 7500/7500 [01:03<00:00, 118.74it/s]\n",
            "  0%|          | 0/7500 [00:00<?, ?it/s]"
          ],
          "name": "stderr"
        },
        {
          "output_type": "stream",
          "text": [
            "\n",
            "Test set: Average loss: 0.0221, Accuracy: 9934/10000 (99.340%)\n",
            "\n"
          ],
          "name": "stdout"
        },
        {
          "output_type": "stream",
          "text": [
            "loss=0.0003662109375 batch_id=7499: 100%|██████████| 7500/7500 [01:02<00:00, 120.11it/s]\n",
            "  0%|          | 0/7500 [00:00<?, ?it/s]"
          ],
          "name": "stderr"
        },
        {
          "output_type": "stream",
          "text": [
            "\n",
            "Test set: Average loss: 0.0268, Accuracy: 9905/10000 (99.050%)\n",
            "\n"
          ],
          "name": "stdout"
        },
        {
          "output_type": "stream",
          "text": [
            "loss=0.0014259815216064453 batch_id=7499: 100%|██████████| 7500/7500 [01:02<00:00, 120.84it/s]\n",
            "  0%|          | 0/7500 [00:00<?, ?it/s]"
          ],
          "name": "stderr"
        },
        {
          "output_type": "stream",
          "text": [
            "\n",
            "Test set: Average loss: 0.0219, Accuracy: 9931/10000 (99.310%)\n",
            "\n"
          ],
          "name": "stdout"
        },
        {
          "output_type": "stream",
          "text": [
            "loss=0.0002541542053222656 batch_id=7499: 100%|██████████| 7500/7500 [01:01<00:00, 121.54it/s]\n",
            "  0%|          | 0/7500 [00:00<?, ?it/s]"
          ],
          "name": "stderr"
        },
        {
          "output_type": "stream",
          "text": [
            "\n",
            "Test set: Average loss: 0.0225, Accuracy: 9935/10000 (99.350%)\n",
            "\n"
          ],
          "name": "stdout"
        },
        {
          "output_type": "stream",
          "text": [
            "loss=6.437301635742188e-05 batch_id=7499: 100%|██████████| 7500/7500 [01:02<00:00, 119.65it/s]\n",
            "  0%|          | 0/7500 [00:00<?, ?it/s]"
          ],
          "name": "stderr"
        },
        {
          "output_type": "stream",
          "text": [
            "\n",
            "Test set: Average loss: 0.0233, Accuracy: 9916/10000 (99.160%)\n",
            "\n"
          ],
          "name": "stdout"
        },
        {
          "output_type": "stream",
          "text": [
            "loss=0.0006725788116455078 batch_id=7499: 100%|██████████| 7500/7500 [01:03<00:00, 117.50it/s]\n",
            "  0%|          | 0/7500 [00:00<?, ?it/s]"
          ],
          "name": "stderr"
        },
        {
          "output_type": "stream",
          "text": [
            "\n",
            "Test set: Average loss: 0.0222, Accuracy: 9929/10000 (99.290%)\n",
            "\n"
          ],
          "name": "stdout"
        },
        {
          "output_type": "stream",
          "text": [
            "loss=7.009506225585938e-05 batch_id=7499: 100%|██████████| 7500/7500 [01:03<00:00, 117.99it/s]\n",
            "  0%|          | 0/7500 [00:00<?, ?it/s]"
          ],
          "name": "stderr"
        },
        {
          "output_type": "stream",
          "text": [
            "\n",
            "Test set: Average loss: 0.0211, Accuracy: 9935/10000 (99.350%)\n",
            "\n"
          ],
          "name": "stdout"
        },
        {
          "output_type": "stream",
          "text": [
            "loss=0.0006518363952636719 batch_id=7499: 100%|██████████| 7500/7500 [01:02<00:00, 119.76it/s]\n",
            "  0%|          | 0/7500 [00:00<?, ?it/s]"
          ],
          "name": "stderr"
        },
        {
          "output_type": "stream",
          "text": [
            "\n",
            "Test set: Average loss: 0.0178, Accuracy: 9940/10000 (99.400%)\n",
            "\n"
          ],
          "name": "stdout"
        },
        {
          "output_type": "stream",
          "text": [
            "loss=0.001291513442993164 batch_id=7499: 100%|██████████| 7500/7500 [01:02<00:00, 119.71it/s]\n"
          ],
          "name": "stderr"
        },
        {
          "output_type": "stream",
          "text": [
            "\n",
            "Test set: Average loss: 0.0205, Accuracy: 9932/10000 (99.320%)\n",
            "\n"
          ],
          "name": "stdout"
        }
      ]
    }
  ]
}